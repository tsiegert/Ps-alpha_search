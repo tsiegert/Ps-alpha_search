{
 "cells": [
  {
   "cell_type": "code",
   "execution_count": 1,
   "id": "d0d038a4",
   "metadata": {},
   "outputs": [],
   "source": [
    "import numpy as np\n",
    "import matplotlib.pyplot as plt"
   ]
  },
  {
   "cell_type": "code",
   "execution_count": 2,
   "id": "309c540b",
   "metadata": {},
   "outputs": [],
   "source": [
    "import astropy.units as u\n",
    "import astropy.constants as c"
   ]
  },
  {
   "cell_type": "code",
   "execution_count": 3,
   "id": "619be0a4",
   "metadata": {},
   "outputs": [],
   "source": [
    "plt.style.use('thomas')"
   ]
  },
  {
   "cell_type": "code",
   "execution_count": 4,
   "id": "c63a5d51",
   "metadata": {},
   "outputs": [],
   "source": [
    "# Rydberg constant for Positronium (Ps)\n",
    "R_Ps = (c.m_e.si * c.e.si**4 / (16 * c.eps0.si**2 * c.h.si**3 * c.c.si))"
   ]
  },
  {
   "cell_type": "code",
   "execution_count": 5,
   "id": "8a2d2058",
   "metadata": {},
   "outputs": [
    {
     "data": {
      "text/latex": [
       "$5486865.8 \\; \\mathrm{\\frac{1}{m}}$"
      ],
      "text/plain": [
       "<Quantity 5486865.78403629 1 / m>"
      ]
     },
     "execution_count": 5,
     "metadata": {},
     "output_type": "execute_result"
    }
   ],
   "source": [
    "R_Ps.si"
   ]
  },
  {
   "cell_type": "code",
   "execution_count": 6,
   "id": "9dce6e81",
   "metadata": {},
   "outputs": [],
   "source": [
    "# Recombination lines for Ps\n",
    "def Ps_alpha_frequency(n1,n2):\n",
    "    return (R_Ps.si * c.c * (1/n1**2 - 1/n2**2)).to(u.GHz)"
   ]
  },
  {
   "cell_type": "code",
   "execution_count": 7,
   "id": "45dc5da0",
   "metadata": {},
   "outputs": [],
   "source": [
    "# up to n = 151\n",
    "n_max = 150\n",
    "\n",
    "# lower level\n",
    "n1 = np.arange(1,n_max+1,1)\n",
    "# upper level (Ps alpha)\n",
    "n2 = n1+1\n",
    "# upper level (Ps beta)\n",
    "n3 = n1+2"
   ]
  },
  {
   "cell_type": "code",
   "execution_count": 8,
   "id": "1635cb6b",
   "metadata": {},
   "outputs": [],
   "source": [
    "frequencies = Ps_alpha_frequency(n1,n2)\n",
    "wavelengths = (c.c / frequencies).to(u.cm)\n",
    "energies = (c.h * frequencies).to(u.erg)"
   ]
  },
  {
   "cell_type": "code",
   "execution_count": 9,
   "id": "985c4d5c",
   "metadata": {
    "scrolled": false
   },
   "outputs": [
    {
     "name": "stdout",
     "output_type": "stream",
     "text": [
      "Ps1alpha:   1233690.73508 GHz;         0.00002 cm;     8.17452e-12 erg\n",
      "Ps2alpha:    228461.24724 GHz;         0.00013 cm;     1.51380e-12 erg\n",
      "Ps3alpha:     79961.43653 GHz;         0.00037 cm;     5.29830e-13 erg\n",
      "Ps4alpha:     37010.72205 GHz;         0.00081 cm;     2.45236e-13 erg\n",
      "Ps5alpha:     20104.58976 GHz;         0.00149 cm;     1.33214e-13 erg\n",
      "Ps6alpha:     12122.43353 GHz;         0.00247 cm;     8.03241e-14 erg\n",
      "Ps7alpha:      7867.92561 GHz;         0.00381 cm;     5.21334e-14 erg\n",
      "Ps8alpha:      5394.22389 GHz;         0.00556 cm;     3.57425e-14 erg\n",
      "Ps9alpha:      3858.45662 GHz;         0.00777 cm;     2.55664e-14 erg\n",
      "Ps10alpha:      2854.82154 GHz;         0.01050 cm;     1.89162e-14 erg\n",
      "Ps11alpha:      2171.32590 GHz;         0.01381 cm;     1.43874e-14 erg\n",
      "Ps12alpha:      1689.80212 GHz;         0.01774 cm;     1.11967e-14 erg\n",
      "Ps13alpha:      1340.80626 GHz;         0.02236 cm;     8.88428e-15 erg\n",
      "Ps14alpha:      1081.69407 GHz;         0.02772 cm;     7.16738e-15 erg\n",
      "Ps15alpha:       885.28733 GHz;         0.03386 cm;     5.86598e-15 erg\n",
      "Ps16alpha:       733.70448 GHz;         0.04086 cm;     4.86158e-15 erg\n",
      "Ps17alpha:       614.85149 GHz;         0.04876 cm;     4.07405e-15 erg\n",
      "Ps18alpha:       520.34879 GHz;         0.05761 cm;     3.44787e-15 erg\n",
      "Ps19alpha:       444.26536 GHz;         0.06748 cm;     2.94373e-15 erg\n",
      "Ps20alpha:       382.32290 GHz;         0.07841 cm;     2.53330e-15 erg\n",
      "Ps21alpha:       331.38248 GHz;         0.09047 cm;     2.19576e-15 erg\n",
      "Ps22alpha:       289.10561 GHz;         0.10370 cm;     1.91563e-15 erg\n",
      "Ps23alpha:       253.72587 GHz;         0.11816 cm;     1.68121e-15 erg\n",
      "Ps24alpha:       223.89202 GHz;         0.13390 cm;     1.48352e-15 erg\n",
      "Ps25alpha:       198.55851 GHz;         0.15098 cm;     1.31566e-15 erg\n",
      "Ps26alpha:       176.90768 GHz;         0.16946 cm;     1.17220e-15 erg\n",
      "Ps27alpha:       158.29389 GHz;         0.18939 cm;     1.04887e-15 erg\n",
      "Ps28alpha:       142.20270 GHz;         0.21082 cm;     9.42245e-16 erg\n",
      "Ps29alpha:       128.22082 GHz;         0.23381 cm;     8.49600e-16 erg\n",
      "Ps30alpha:       116.01362 GHz;         0.25841 cm;     7.68714e-16 erg\n",
      "Ps31alpha:       105.30821 GHz;         0.28468 cm;     6.97780e-16 erg\n",
      "Ps32alpha:        95.88056 GHz;         0.31267 cm;     6.35311e-16 erg\n",
      "Ps33alpha:        87.54556 GHz;         0.34244 cm;     5.80083e-16 erg\n",
      "Ps34alpha:        80.14939 GHz;         0.37404 cm;     5.31075e-16 erg\n",
      "Ps35alpha:        73.56349 GHz;         0.40753 cm;     4.87437e-16 erg\n",
      "Ps36alpha:        67.67986 GHz;         0.44296 cm;     4.48451e-16 erg\n",
      "Ps37alpha:        62.40734 GHz;         0.48038 cm;     4.13515e-16 erg\n",
      "Ps38alpha:        57.66859 GHz;         0.51985 cm;     3.82116e-16 erg\n",
      "Ps39alpha:        53.39775 GHz;         0.56143 cm;     3.53817e-16 erg\n",
      "Ps40alpha:        49.53844 GHz;         0.60517 cm;     3.28245e-16 erg\n",
      "Ps41alpha:        46.04228 GHz;         0.65112 cm;     3.05079e-16 erg\n",
      "Ps42alpha:        42.86753 GHz;         0.69935 cm;     2.84043e-16 erg\n",
      "Ps43alpha:        39.97809 GHz;         0.74989 cm;     2.64898e-16 erg\n",
      "Ps44alpha:        37.34261 GHz;         0.80282 cm;     2.47435e-16 erg\n",
      "Ps45alpha:        34.93379 GHz;         0.85817 cm;     2.31474e-16 erg\n",
      "Ps46alpha:        32.72778 GHz;         0.91602 cm;     2.16857e-16 erg\n",
      "Ps47alpha:        30.70368 GHz;         0.97641 cm;     2.03445e-16 erg\n",
      "Ps48alpha:        28.84311 GHz;         1.03939 cm;     1.91116e-16 erg\n",
      "Ps49alpha:        27.12989 GHz;         1.10503 cm;     1.79765e-16 erg\n",
      "Ps50alpha:        25.54971 GHz;         1.17337 cm;     1.69294e-16 erg\n",
      "Ps51alpha:        24.08991 GHz;         1.24447 cm;     1.59621e-16 erg\n",
      "Ps52alpha:        22.73924 GHz;         1.31839 cm;     1.50672e-16 erg\n",
      "Ps53alpha:        21.48768 GHz;         1.39518 cm;     1.42379e-16 erg\n",
      "Ps54alpha:        20.32631 GHz;         1.47490 cm;     1.34684e-16 erg\n",
      "Ps55alpha:        19.24716 GHz;         1.55759 cm;     1.27533e-16 erg\n",
      "Ps56alpha:        18.24306 GHz;         1.64332 cm;     1.20880e-16 erg\n",
      "Ps57alpha:        17.30761 GHz;         1.73214 cm;     1.14681e-16 erg\n",
      "Ps58alpha:        16.43504 GHz;         1.82410 cm;     1.08900e-16 erg\n",
      "Ps59alpha:        15.62016 GHz;         1.91927 cm;     1.03500e-16 erg\n",
      "Ps60alpha:        14.85827 GHz;         2.01768 cm;     9.84519e-17 erg\n",
      "Ps61alpha:        14.14514 GHz;         2.11940 cm;     9.37267e-17 erg\n",
      "Ps62alpha:        13.47692 GHz;         2.22449 cm;     8.92990e-17 erg\n",
      "Ps63alpha:        12.85014 GHz;         2.33299 cm;     8.51459e-17 erg\n",
      "Ps64alpha:        12.26163 GHz;         2.44496 cm;     8.12464e-17 erg\n",
      "Ps65alpha:        11.70851 GHz;         2.56047 cm;     7.75814e-17 erg\n",
      "Ps66alpha:        11.18817 GHz;         2.67955 cm;     7.41336e-17 erg\n",
      "Ps67alpha:        10.69822 GHz;         2.80227 cm;     7.08871e-17 erg\n",
      "Ps68alpha:        10.23646 GHz;         2.92867 cm;     6.78275e-17 erg\n",
      "Ps69alpha:         9.80089 GHz;         3.05883 cm;     6.49414e-17 erg\n",
      "Ps70alpha:         9.38969 GHz;         3.19278 cm;     6.22168e-17 erg\n",
      "Ps71alpha:         9.00118 GHz;         3.33059 cm;     5.96424e-17 erg\n",
      "Ps72alpha:         8.63381 GHz;         3.47231 cm;     5.72082e-17 erg\n",
      "Ps73alpha:         8.28616 GHz;         3.61799 cm;     5.49047e-17 erg\n",
      "Ps74alpha:         7.95693 GHz;         3.76769 cm;     5.27232e-17 erg\n",
      "Ps75alpha:         7.64491 GHz;         3.92147 cm;     5.06557e-17 erg\n",
      "Ps76alpha:         7.34899 GHz;         4.07937 cm;     4.86949e-17 erg\n",
      "Ps77alpha:         7.06816 GHz;         4.24145 cm;     4.68341e-17 erg\n",
      "Ps78alpha:         6.80145 GHz;         4.40777 cm;     4.50669e-17 erg\n",
      "Ps79alpha:         6.54799 GHz;         4.57839 cm;     4.33874e-17 erg\n",
      "Ps80alpha:         6.30697 GHz;         4.75335 cm;     4.17904e-17 erg\n",
      "Ps81alpha:         6.07764 GHz;         4.93271 cm;     4.02709e-17 erg\n",
      "Ps82alpha:         5.85929 GHz;         5.11653 cm;     3.88241e-17 erg\n",
      "Ps83alpha:         5.65128 GHz;         5.30486 cm;     3.74458e-17 erg\n",
      "Ps84alpha:         5.45300 GHz;         5.49775 cm;     3.61319e-17 erg\n",
      "Ps85alpha:         5.26389 GHz;         5.69527 cm;     3.48789e-17 erg\n",
      "Ps86alpha:         5.08342 GHz;         5.89746 cm;     3.36831e-17 erg\n",
      "Ps87alpha:         4.91111 GHz;         6.10438 cm;     3.25413e-17 erg\n",
      "Ps88alpha:         4.74649 GHz;         6.31608 cm;     3.14506e-17 erg\n",
      "Ps89alpha:         4.58916 GHz;         6.53262 cm;     3.04081e-17 erg\n",
      "Ps90alpha:         4.43870 GHz;         6.75406 cm;     2.94111e-17 erg\n",
      "Ps91alpha:         4.29475 GHz;         6.98044 cm;     2.84573e-17 erg\n",
      "Ps92alpha:         4.15695 GHz;         7.21183 cm;     2.75443e-17 erg\n",
      "Ps93alpha:         4.02499 GHz;         7.44827 cm;     2.66699e-17 erg\n",
      "Ps94alpha:         3.89856 GHz;         7.68983 cm;     2.58321e-17 erg\n",
      "Ps95alpha:         3.77736 GHz;         7.93655 cm;     2.50291e-17 erg\n",
      "Ps96alpha:         3.66114 GHz;         8.18850 cm;     2.42590e-17 erg\n",
      "Ps97alpha:         3.54964 GHz;         8.44572 cm;     2.35201e-17 erg\n",
      "Ps98alpha:         3.44262 GHz;         8.70827 cm;     2.28110e-17 erg\n",
      "Ps99alpha:         3.33986 GHz;         8.97621 cm;     2.21301e-17 erg\n",
      "Ps100alpha:         3.24114 GHz;         9.24959 cm;     2.14760e-17 erg\n",
      "Ps101alpha:         3.14628 GHz;         9.52846 cm;     2.08475e-17 erg\n",
      "Ps102alpha:         3.05509 GHz;         9.81288 cm;     2.02432e-17 erg\n",
      "Ps103alpha:         2.96739 GHz;        10.10291 cm;     1.96621e-17 erg\n",
      "Ps104alpha:         2.88301 GHz;        10.39859 cm;     1.91030e-17 erg\n",
      "Ps105alpha:         2.80180 GHz;        10.69999 cm;     1.85649e-17 erg\n",
      "Ps106alpha:         2.72361 GHz;        11.00716 cm;     1.80468e-17 erg\n",
      "Ps107alpha:         2.64831 GHz;        11.32015 cm;     1.75479e-17 erg\n",
      "Ps108alpha:         2.57575 GHz;        11.63902 cm;     1.70671e-17 erg\n",
      "Ps109alpha:         2.50583 GHz;        11.96382 cm;     1.66038e-17 erg\n",
      "Ps110alpha:         2.43841 GHz;        12.29461 cm;     1.61570e-17 erg\n",
      "Ps111alpha:         2.37338 GHz;        12.63144 cm;     1.57262e-17 erg\n",
      "Ps112alpha:         2.31065 GHz;        12.97436 cm;     1.53105e-17 erg\n",
      "Ps113alpha:         2.25011 GHz;        13.32344 cm;     1.49094e-17 erg\n",
      "Ps114alpha:         2.19167 GHz;        13.67872 cm;     1.45222e-17 erg\n",
      "Ps115alpha:         2.13523 GHz;        14.04027 cm;     1.41482e-17 erg\n",
      "Ps116alpha:         2.08072 GHz;        14.40812 cm;     1.37870e-17 erg\n",
      "Ps117alpha:         2.02804 GHz;        14.78235 cm;     1.34380e-17 erg\n",
      "Ps118alpha:         1.97713 GHz;        15.16300 cm;     1.31006e-17 erg\n",
      "Ps119alpha:         1.92791 GHz;        15.55014 cm;     1.27745e-17 erg\n",
      "Ps120alpha:         1.88031 GHz;        15.94380 cm;     1.24590e-17 erg\n",
      "Ps121alpha:         1.83426 GHz;        16.34405 cm;     1.21539e-17 erg\n",
      "Ps122alpha:         1.78970 GHz;        16.75095 cm;     1.18587e-17 erg\n",
      "Ps123alpha:         1.74658 GHz;        17.16455 cm;     1.15730e-17 erg\n",
      "Ps124alpha:         1.70483 GHz;        17.58489 cm;     1.12963e-17 erg\n",
      "Ps125alpha:         1.66440 GHz;        18.01205 cm;     1.10284e-17 erg\n",
      "Ps126alpha:         1.62524 GHz;        18.44606 cm;     1.07689e-17 erg\n",
      "Ps127alpha:         1.58730 GHz;        18.88699 cm;     1.05175e-17 erg\n",
      "Ps128alpha:         1.55053 GHz;        19.33490 cm;     1.02739e-17 erg\n",
      "Ps129alpha:         1.51488 GHz;        19.78983 cm;     1.00377e-17 erg\n",
      "Ps130alpha:         1.48032 GHz;        20.25184 cm;     9.80872e-18 erg\n",
      "Ps131alpha:         1.44681 GHz;        20.72098 cm;     9.58664e-18 erg\n",
      "Ps132alpha:         1.41429 GHz;        21.19732 cm;     9.37121e-18 erg\n",
      "Ps133alpha:         1.38275 GHz;        21.68090 cm;     9.16219e-18 erg\n",
      "Ps134alpha:         1.35214 GHz;        22.17178 cm;     8.95934e-18 erg\n",
      "Ps135alpha:         1.32242 GHz;        22.67001 cm;     8.76244e-18 erg\n",
      "Ps136alpha:         1.29357 GHz;        23.17565 cm;     8.57126e-18 erg\n",
      "Ps137alpha:         1.26555 GHz;        23.68876 cm;     8.38561e-18 erg\n",
      "Ps138alpha:         1.23833 GHz;        24.20938 cm;     8.20527e-18 erg\n",
      "Ps139alpha:         1.21189 GHz;        24.73758 cm;     8.03007e-18 erg\n",
      "Ps140alpha:         1.18620 GHz;        25.27340 cm;     7.85983e-18 erg\n",
      "Ps141alpha:         1.16123 GHz;        25.81690 cm;     7.69436e-18 erg\n",
      "Ps142alpha:         1.13695 GHz;        26.36814 cm;     7.53351e-18 erg\n",
      "Ps143alpha:         1.11335 GHz;        26.92718 cm;     7.37710e-18 erg\n",
      "Ps144alpha:         1.09039 GHz;        27.49406 cm;     7.22500e-18 erg\n",
      "Ps145alpha:         1.06806 GHz;        28.06884 cm;     7.07705e-18 erg\n",
      "Ps146alpha:         1.04634 GHz;        28.65157 cm;     6.93311e-18 erg\n",
      "Ps147alpha:         1.02520 GHz;        29.24231 cm;     6.79305e-18 erg\n",
      "Ps148alpha:         1.00463 GHz;        29.84112 cm;     6.65674e-18 erg\n",
      "Ps149alpha:         0.98460 GHz;        30.44805 cm;     6.52405e-18 erg\n",
      "Ps150alpha:         0.96511 GHz;        31.06316 cm;     6.39486e-18 erg\n"
     ]
    }
   ],
   "source": [
    "for i in range(len(n1)):\n",
    "    print('Ps{0}alpha: {1:15.5f}; {2:15.5f}; {3:15.5e}'.format(n1[i],frequencies[i],wavelengths[i],energies[i]))"
   ]
  },
  {
   "cell_type": "code",
   "execution_count": null,
   "id": "f2c68442",
   "metadata": {},
   "outputs": [],
   "source": []
  },
  {
   "cell_type": "code",
   "execution_count": null,
   "id": "30f06bc6",
   "metadata": {},
   "outputs": [],
   "source": []
  },
  {
   "cell_type": "code",
   "execution_count": 10,
   "id": "01efec7b",
   "metadata": {},
   "outputs": [],
   "source": [
    "# Same for hydrogen\n",
    "R_H = (c.m_e.si * c.e.si**4 / (8 * c.eps0.si**2 * c.h.si**3 * c.c.si)) * c.m_p / (c.m_p + c.m_e)"
   ]
  },
  {
   "cell_type": "code",
   "execution_count": 11,
   "id": "138ab7a6",
   "metadata": {},
   "outputs": [
    {
     "data": {
      "text/latex": [
       "$10967758 \\; \\mathrm{\\frac{1}{m}}$"
      ],
      "text/plain": [
       "<Quantity 10967758.34019298 1 / m>"
      ]
     },
     "execution_count": 11,
     "metadata": {},
     "output_type": "execute_result"
    }
   ],
   "source": [
    "R_H.si"
   ]
  },
  {
   "cell_type": "code",
   "execution_count": 12,
   "id": "14273e05",
   "metadata": {},
   "outputs": [
    {
     "data": {
      "text/latex": [
       "$10973732 \\; \\mathrm{\\frac{1}{m}}$"
      ],
      "text/plain": [
       "<<class 'astropy.constants.codata2018.CODATA2018'> name='Rydberg constant' value=10973731.56816 uncertainty=2.1e-05 unit='1 / m' reference='CODATA 2018'>"
      ]
     },
     "execution_count": 12,
     "metadata": {},
     "output_type": "execute_result"
    }
   ],
   "source": [
    "# slightly different, no idea why, might need to check which one to use in the end\n",
    "c.Ryd"
   ]
  },
  {
   "cell_type": "code",
   "execution_count": 13,
   "id": "eba641d9",
   "metadata": {},
   "outputs": [],
   "source": [
    "def H_alpha_frequency(n1,n2):\n",
    "    return (R_H.si * c.c * (1/n1**2 - 1/n2**2)).to(u.GHz)\n",
    "\n",
    "# see paper: https://ui.adsabs.harvard.edu/abs/2020MNRAS.499.3909Y/abstract in which H30alpha etc. are explained"
   ]
  },
  {
   "cell_type": "code",
   "execution_count": null,
   "id": "ecad5cb3",
   "metadata": {},
   "outputs": [],
   "source": []
  },
  {
   "cell_type": "code",
   "execution_count": 14,
   "id": "c3cdf796",
   "metadata": {},
   "outputs": [],
   "source": [
    "frequencies_H = H_alpha_frequency(n1,n2)\n",
    "wavelengths_H = (c.c / frequencies_H).to(u.cm)\n",
    "energies_H = (c.h * frequencies_H).to(u.erg)"
   ]
  },
  {
   "cell_type": "code",
   "execution_count": 15,
   "id": "e574bea0",
   "metadata": {
    "scrolled": false
   },
   "outputs": [
    {
     "name": "stdout",
     "output_type": "stream",
     "text": [
      "H1alpha:   2466038.42367 GHz;         0.00001 cm;     1.63401e-11 erg\n",
      "H2alpha:    456673.78216 GHz;         0.00007 cm;     3.02595e-12 erg\n",
      "H3alpha:    159835.82376 GHz;         0.00019 cm;     1.05908e-12 erg\n",
      "H4alpha:     73981.15271 GHz;         0.00041 cm;     4.90204e-13 erg\n",
      "H5alpha:     40187.29283 GHz;         0.00075 cm;     2.66284e-13 erg\n",
      "H6alpha:     24231.67007 GHz;         0.00124 cm;     1.60561e-13 erg\n",
      "H7alpha:     15727.28587 GHz;         0.00191 cm;     1.04210e-13 erg\n",
      "H8alpha:     10782.57541 GHz;         0.00278 cm;     7.14461e-14 erg\n",
      "H9alpha:      7712.71277 GHz;         0.00389 cm;     5.11050e-14 erg\n",
      "H10alpha:      5706.53520 GHz;         0.00525 cm;     3.78119e-14 erg\n",
      "H11alpha:      4340.28801 GHz;         0.00691 cm;     2.87591e-14 erg\n",
      "H12alpha:      3377.76466 GHz;         0.00888 cm;     2.23813e-14 erg\n",
      "H13alpha:      2680.15286 GHz;         0.01119 cm;     1.77589e-14 erg\n",
      "H14alpha:      2162.21056 GHz;         0.01387 cm;     1.43270e-14 erg\n",
      "H15alpha:      1769.61091 GHz;         0.01694 cm;     1.17256e-14 erg\n",
      "H16alpha:      1466.61022 GHz;         0.02044 cm;     9.71786e-15 erg\n",
      "H17alpha:      1229.03363 GHz;         0.02439 cm;     8.14366e-15 erg\n",
      "H18alpha:      1040.13111 GHz;         0.02882 cm;     6.89198e-15 erg\n",
      "H19alpha:       888.04708 GHz;         0.03376 cm;     5.88426e-15 erg\n",
      "H20alpha:       764.22959 GHz;         0.03923 cm;     5.06384e-15 erg\n",
      "H21alpha:       662.40420 GHz;         0.04526 cm;     4.38914e-15 erg\n",
      "H22alpha:       577.89649 GHz;         0.05188 cm;     3.82918e-15 erg\n",
      "H23alpha:       507.17551 GHz;         0.05911 cm;     3.36058e-15 erg\n",
      "H24alpha:       447.54031 GHz;         0.06699 cm;     2.96543e-15 erg\n",
      "H25alpha:       396.90086 GHz;         0.07553 cm;     2.62989e-15 erg\n",
      "H26alpha:       353.62277 GHz;         0.08478 cm;     2.34313e-15 erg\n",
      "H27alpha:       316.41544 GHz;         0.09475 cm;     2.09659e-15 erg\n",
      "H28alpha:       284.25059 GHz;         0.10547 cm;     1.88346e-15 erg\n",
      "H29alpha:       256.30205 GHz;         0.11697 cm;     1.69828e-15 erg\n",
      "H30alpha:       231.90094 GHz;         0.12928 cm;     1.53659e-15 erg\n",
      "H31alpha:       210.50178 GHz;         0.14242 cm;     1.39480e-15 erg\n",
      "H32alpha:       191.65674 GHz;         0.15642 cm;     1.26993e-15 erg\n",
      "H33alpha:       174.99582 GHz;         0.17131 cm;     1.15953e-15 erg\n",
      "H34alpha:       160.21152 GHz;         0.18712 cm;     1.06157e-15 erg\n",
      "H35alpha:       147.04689 GHz;         0.20388 cm;     9.74343e-16 erg\n",
      "H36alpha:       135.28604 GHz;         0.22160 cm;     8.96415e-16 erg\n",
      "H37alpha:       124.74674 GHz;         0.24032 cm;     8.26581e-16 erg\n",
      "H38alpha:       115.27441 GHz;         0.26007 cm;     7.63816e-16 erg\n",
      "H39alpha:       106.73736 GHz;         0.28087 cm;     7.07249e-16 erg\n",
      "H40alpha:        99.02296 GHz;         0.30275 cm;     6.56133e-16 erg\n",
      "H41alpha:        92.03444 GHz;         0.32574 cm;     6.09827e-16 erg\n",
      "H42alpha:        85.68840 GHz;         0.34986 cm;     5.67777e-16 erg\n",
      "H43alpha:        79.91266 GHz;         0.37515 cm;     5.29507e-16 erg\n",
      "H44alpha:        74.64457 GHz;         0.40163 cm;     4.94600e-16 erg\n",
      "H45alpha:        69.82956 GHz;         0.42932 cm;     4.62696e-16 erg\n",
      "H46alpha:        65.41994 GHz;         0.45826 cm;     4.33477e-16 erg\n",
      "H47alpha:        61.37394 GHz;         0.48847 cm;     4.06668e-16 erg\n",
      "H48alpha:        57.65483 GHz;         0.51998 cm;     3.82025e-16 erg\n",
      "H49alpha:        54.23025 GHz;         0.55281 cm;     3.59333e-16 erg\n",
      "H50alpha:        51.07161 GHz;         0.58700 cm;     3.38404e-16 erg\n",
      "H51alpha:        48.15360 GHz;         0.62258 cm;     3.19069e-16 erg\n",
      "H52alpha:        45.45372 GHz;         0.65956 cm;     3.01180e-16 erg\n",
      "H53alpha:        42.95197 GHz;         0.69797 cm;     2.84603e-16 erg\n",
      "H54alpha:        40.63050 GHz;         0.73785 cm;     2.69221e-16 erg\n",
      "H55alpha:        38.47336 GHz;         0.77922 cm;     2.54927e-16 erg\n",
      "H56alpha:        36.46626 GHz;         0.82211 cm;     2.41628e-16 erg\n",
      "H57alpha:        34.59638 GHz;         0.86654 cm;     2.29238e-16 erg\n",
      "H58alpha:        32.85220 GHz;         0.91255 cm;     2.17681e-16 erg\n",
      "H59alpha:        31.22332 GHz;         0.96016 cm;     2.06888e-16 erg\n",
      "H60alpha:        29.70036 GHz;         1.00939 cm;     1.96797e-16 erg\n",
      "H61alpha:        28.27487 GHz;         1.06028 cm;     1.87351e-16 erg\n",
      "H62alpha:        26.93916 GHz;         1.11285 cm;     1.78501e-16 erg\n",
      "H63alpha:        25.68628 GHz;         1.16713 cm;     1.70199e-16 erg\n",
      "H64alpha:        24.50990 GHz;         1.22315 cm;     1.62404e-16 erg\n",
      "H65alpha:        23.40428 GHz;         1.28093 cm;     1.55078e-16 erg\n",
      "H66alpha:        22.36417 GHz;         1.34050 cm;     1.48187e-16 erg\n",
      "H67alpha:        21.38479 GHz;         1.40190 cm;     1.41697e-16 erg\n",
      "H68alpha:        20.46177 GHz;         1.46513 cm;     1.35581e-16 erg\n",
      "H69alpha:        19.59111 GHz;         1.53025 cm;     1.29812e-16 erg\n",
      "H70alpha:        18.76916 GHz;         1.59726 cm;     1.24366e-16 erg\n",
      "H71alpha:        17.99256 GHz;         1.66620 cm;     1.19220e-16 erg\n",
      "H72alpha:        17.25821 GHz;         1.73710 cm;     1.14354e-16 erg\n",
      "H73alpha:        16.56330 GHz;         1.80998 cm;     1.09750e-16 erg\n",
      "H74alpha:        15.90519 GHz;         1.88487 cm;     1.05389e-16 erg\n",
      "H75alpha:        15.28149 GHz;         1.96180 cm;     1.01256e-16 erg\n",
      "H76alpha:        14.68999 GHz;         2.04079 cm;     9.73369e-17 erg\n",
      "H77alpha:        14.12862 GHz;         2.12188 cm;     9.36172e-17 erg\n",
      "H78alpha:        13.59549 GHz;         2.20509 cm;     9.00847e-17 erg\n",
      "H79alpha:        13.08885 GHz;         2.29044 cm;     8.67276e-17 erg\n",
      "H80alpha:        12.60708 GHz;         2.37797 cm;     8.35354e-17 erg\n",
      "H81alpha:        12.14866 GHz;         2.46770 cm;     8.04979e-17 erg\n",
      "H82alpha:        11.71220 GHz;         2.55966 cm;     7.76059e-17 erg\n",
      "H83alpha:        11.29641 GHz;         2.65387 cm;     7.48508e-17 erg\n",
      "H84alpha:        10.90006 GHz;         2.75037 cm;     7.22246e-17 erg\n",
      "H85alpha:        10.52204 GHz;         2.84919 cm;     6.97198e-17 erg\n",
      "H86alpha:        10.16130 GHz;         2.95034 cm;     6.73295e-17 erg\n",
      "H87alpha:         9.81686 GHz;         3.05385 cm;     6.50472e-17 erg\n",
      "H88alpha:         9.48782 GHz;         3.15976 cm;     6.28670e-17 erg\n",
      "H89alpha:         9.17332 GHz;         3.26809 cm;     6.07831e-17 erg\n",
      "H90alpha:         8.87257 GHz;         3.37887 cm;     5.87903e-17 erg\n",
      "H91alpha:         8.58482 GHz;         3.49212 cm;     5.68836e-17 erg\n",
      "H92alpha:         8.30938 GHz;         3.60788 cm;     5.50586e-17 erg\n",
      "H93alpha:         8.04560 GHz;         3.72617 cm;     5.33107e-17 erg\n",
      "H94alpha:         7.79287 GHz;         3.84701 cm;     5.16361e-17 erg\n",
      "H95alpha:         7.55061 GHz;         3.97044 cm;     5.00309e-17 erg\n",
      "H96alpha:         7.31830 GHz;         4.09648 cm;     4.84915e-17 erg\n",
      "H97alpha:         7.09541 GHz;         4.22516 cm;     4.70147e-17 erg\n",
      "H98alpha:         6.88149 GHz;         4.35651 cm;     4.55972e-17 erg\n",
      "H99alpha:         6.67608 GHz;         4.49055 cm;     4.42361e-17 erg\n",
      "H100alpha:         6.47876 GHz;         4.62731 cm;     4.29287e-17 erg\n",
      "H101alpha:         6.28914 GHz;         4.76682 cm;     4.16723e-17 erg\n",
      "H102alpha:         6.10686 GHz;         4.90911 cm;     4.04645e-17 erg\n",
      "H103alpha:         5.93154 GHz;         5.05421 cm;     3.93028e-17 erg\n",
      "H104alpha:         5.76288 GHz;         5.20213 cm;     3.81852e-17 erg\n",
      "H105alpha:         5.60055 GHz;         5.35291 cm;     3.71096e-17 erg\n",
      "H106alpha:         5.44426 GHz;         5.50658 cm;     3.60741e-17 erg\n",
      "H107alpha:         5.29373 GHz;         5.66316 cm;     3.50766e-17 erg\n",
      "H108alpha:         5.14870 GHz;         5.82268 cm;     3.41157e-17 erg\n",
      "H109alpha:         5.00892 GHz;         5.98517 cm;     3.31895e-17 erg\n",
      "H110alpha:         4.87416 GHz;         6.15065 cm;     3.22965e-17 erg\n",
      "H111alpha:         4.74418 GHz;         6.31916 cm;     3.14353e-17 erg\n",
      "H112alpha:         4.61879 GHz;         6.49072 cm;     3.06044e-17 erg\n",
      "H113alpha:         4.49778 GHz;         6.66535 cm;     2.98026e-17 erg\n",
      "H114alpha:         4.38095 GHz;         6.84309 cm;     2.90285e-17 erg\n",
      "H115alpha:         4.26814 GHz;         7.02396 cm;     2.82810e-17 erg\n",
      "H116alpha:         4.15917 GHz;         7.20799 cm;     2.75590e-17 erg\n",
      "H117alpha:         4.05388 GHz;         7.39520 cm;     2.68613e-17 erg\n",
      "H118alpha:         3.95211 GHz;         7.58563 cm;     2.61870e-17 erg\n",
      "H119alpha:         3.85372 GHz;         7.77930 cm;     2.55350e-17 erg\n",
      "H120alpha:         3.75857 GHz;         7.97624 cm;     2.49045e-17 erg\n",
      "H121alpha:         3.66652 GHz;         8.17648 cm;     2.42946e-17 erg\n",
      "H122alpha:         3.57746 GHz;         8.38004 cm;     2.37045e-17 erg\n",
      "H123alpha:         3.49126 GHz;         8.58695 cm;     2.31333e-17 erg\n",
      "H124alpha:         3.40780 GHz;         8.79723 cm;     2.25803e-17 erg\n",
      "H125alpha:         3.32699 GHz;         9.01093 cm;     2.20449e-17 erg\n",
      "H126alpha:         3.24871 GHz;         9.22805 cm;     2.15262e-17 erg\n",
      "H127alpha:         3.17286 GHz;         9.44864 cm;     2.10236e-17 erg\n",
      "H128alpha:         3.09936 GHz;         9.67271 cm;     2.05366e-17 erg\n",
      "H129alpha:         3.02811 GHz;         9.90030 cm;     2.00645e-17 erg\n",
      "H130alpha:         2.95903 GHz;        10.13143 cm;     1.96068e-17 erg\n",
      "H131alpha:         2.89204 GHz;        10.36613 cm;     1.91628e-17 erg\n",
      "H132alpha:         2.82705 GHz;        10.60443 cm;     1.87322e-17 erg\n",
      "H133alpha:         2.76399 GHz;        10.84635 cm;     1.83144e-17 erg\n",
      "H134alpha:         2.70280 GHz;        11.09193 cm;     1.79089e-17 erg\n",
      "H135alpha:         2.64340 GHz;        11.34118 cm;     1.75153e-17 erg\n",
      "H136alpha:         2.58572 GHz;        11.59414 cm;     1.71332e-17 erg\n",
      "H137alpha:         2.52972 GHz;        11.85083 cm;     1.67621e-17 erg\n",
      "H138alpha:         2.47532 GHz;        12.11128 cm;     1.64016e-17 erg\n",
      "H139alpha:         2.42246 GHz;        12.37552 cm;     1.60514e-17 erg\n",
      "H140alpha:         2.37110 GHz;        12.64358 cm;     1.57111e-17 erg\n",
      "H141alpha:         2.32119 GHz;        12.91548 cm;     1.53803e-17 erg\n",
      "H142alpha:         2.27266 GHz;        13.19125 cm;     1.50588e-17 erg\n",
      "H143alpha:         2.22548 GHz;        13.47092 cm;     1.47462e-17 erg\n",
      "H144alpha:         2.17959 GHz;        13.75451 cm;     1.44421e-17 erg\n",
      "H145alpha:         2.13496 GHz;        14.04206 cm;     1.41464e-17 erg\n",
      "H146alpha:         2.09154 GHz;        14.33359 cm;     1.38587e-17 erg\n",
      "H147alpha:         2.04929 GHz;        14.62912 cm;     1.35787e-17 erg\n",
      "H148alpha:         2.00816 GHz;        14.92869 cm;     1.33062e-17 erg\n",
      "H149alpha:         1.96813 GHz;        15.23232 cm;     1.30410e-17 erg\n",
      "H150alpha:         1.92916 GHz;        15.54004 cm;     1.27828e-17 erg\n"
     ]
    }
   ],
   "source": [
    "for i in range(len(n1)):\n",
    "    print('H{0}alpha: {1:15.5f}; {2:15.5f}; {3:15.5e}'.format(n1[i],frequencies_H[i],wavelengths_H[i],energies_H[i]))"
   ]
  },
  {
   "cell_type": "code",
   "execution_count": null,
   "id": "ec3a900e",
   "metadata": {},
   "outputs": [],
   "source": []
  },
  {
   "cell_type": "code",
   "execution_count": 16,
   "id": "ea08547c",
   "metadata": {},
   "outputs": [],
   "source": [
    "# from email with Jonas\n",
    "bands_effelsberg_min = np.array([5.3, 7.3, 13.0, 16.0, 18.0, 20.4, 35.0, 38.0]) * u.GHz\n",
    "bands_effelsberg_max = np.array([7.3, 9.3, 15.0, 18.0, 20.0, 22.4, 37.0, 40.0]) * u.GHz"
   ]
  },
  {
   "cell_type": "code",
   "execution_count": 17,
   "id": "fb68edb0",
   "metadata": {},
   "outputs": [
    {
     "data": {
      "text/plain": [
       "Text(0.5, 0, 'Frequency [GHz]')"
      ]
     },
     "execution_count": 17,
     "metadata": {},
     "output_type": "execute_result"
    },
    {
     "data": {
      "image/png": "[encoded data removed]",
      "text/plain": [
       "<Figure size 1152x432 with 1 Axes>"
      ]
     },
     "metadata": {
      "needs_background": "light"
     },
     "output_type": "display_data"
    }
   ],
   "source": [
    "plt.figure(figsize=(16,6))\n",
    "\n",
    "plt.plot(frequencies,np.repeat(1,n_max),'o')\n",
    "\n",
    "for i in range(len(frequencies)):\n",
    "    if (frequencies[i].value >= bands_effelsberg_min.value[0]*0.9) & \\\n",
    "       (frequencies[i].value <= bands_effelsberg_max.value[-1]*1.1):\n",
    "        plt.text(frequencies[i].value,1.0025,r\"Ps{0}$\\alpha$\".format(n1[i]),\n",
    "                 rotation=90,horizontalalignment='center')\n",
    "\n",
    "for i in range(len(bands_effelsberg_max.value)):\n",
    "    plt.fill([bands_effelsberg_min.value[i]*1.01,\n",
    "              bands_effelsberg_min.value[i]*1.01,\n",
    "              bands_effelsberg_max.value[i]*0.99,\n",
    "              bands_effelsberg_max.value[i]*0.99,\n",
    "              bands_effelsberg_min.value[i]*1.01],\n",
    "             [0,2,2,0,0],color='lime',alpha=0.25)\n",
    "\n",
    "plt.xscale('log')\n",
    "\n",
    "plt.ylim(0.975,1.025)\n",
    "\n",
    "#plt.xlim(5,10)\n",
    "\n",
    "plt.yticks([])\n",
    "\n",
    "plt.xlim(bands_effelsberg_min.value[0]*0.9,bands_effelsberg_max.value[-1]*1.1)\n",
    "\n",
    "plt.xlabel('Frequency [GHz]',fontsize=20)"
   ]
  },
  {
   "cell_type": "code",
   "execution_count": 18,
   "id": "b4cb6adb",
   "metadata": {},
   "outputs": [
    {
     "name": "stdout",
     "output_type": "stream",
     "text": [
      "Ps43alpha @ 39.98 GHz\n",
      "Ps53alpha @ 21.49 GHz\n",
      "Ps55alpha @ 19.25 GHz\n",
      "Ps56alpha @ 18.24 GHz\n",
      "Ps57alpha @ 17.31 GHz\n",
      "Ps58alpha @ 16.44 GHz\n",
      "Ps60alpha @ 14.86 GHz\n",
      "Ps61alpha @ 14.15 GHz\n",
      "Ps62alpha @ 13.48 GHz\n",
      "Ps71alpha @ 9.00 GHz\n",
      "Ps72alpha @ 8.63 GHz\n",
      "Ps73alpha @ 8.29 GHz\n",
      "Ps74alpha @ 7.96 GHz\n",
      "Ps75alpha @ 7.64 GHz\n",
      "Ps76alpha @ 7.35 GHz\n",
      "Ps77alpha @ 7.07 GHz\n",
      "Ps78alpha @ 6.80 GHz\n",
      "Ps79alpha @ 6.55 GHz\n",
      "Ps80alpha @ 6.31 GHz\n",
      "Ps81alpha @ 6.08 GHz\n",
      "Ps82alpha @ 5.86 GHz\n",
      "Ps83alpha @ 5.65 GHz\n",
      "Ps84alpha @ 5.45 GHz\n"
     ]
    }
   ],
   "source": [
    "# cross matching the lines with the Effelsberg bands\n",
    "\n",
    "good_Psalphas = []\n",
    "\n",
    "for i in range(len(frequencies)):\n",
    "    for j in range(len(bands_effelsberg_max.value)):\n",
    "        if (frequencies[i].value >= bands_effelsberg_min.value[j]) & \\\n",
    "           (frequencies[i].value <= bands_effelsberg_max.value[j]):\n",
    "            #print(i,j)\n",
    "            print(\"Ps{0}alpha @ {1:2.2f} GHz\".format(n1[i],frequencies[i].value))\n",
    "            good_Psalphas.append(i)"
   ]
  },
  {
   "cell_type": "code",
   "execution_count": 19,
   "id": "327a2621",
   "metadata": {},
   "outputs": [
    {
     "data": {
      "text/plain": [
       "23"
      ]
     },
     "execution_count": 19,
     "metadata": {},
     "output_type": "execute_result"
    }
   ],
   "source": [
    "# how many in total in all bands:\n",
    "len(good_Psalphas)"
   ]
  },
  {
   "cell_type": "code",
   "execution_count": 20,
   "id": "913cc686",
   "metadata": {},
   "outputs": [
    {
     "data": {
      "text/plain": [
       "True"
      ]
     },
     "execution_count": 20,
     "metadata": {},
     "output_type": "execute_result"
    }
   ],
   "source": [
    "42 in good_Psalphas"
   ]
  },
  {
   "cell_type": "code",
   "execution_count": 21,
   "id": "d81ad43c",
   "metadata": {},
   "outputs": [
    {
     "data": {
      "text/latex": [
       "$[5.3,~7.3,~13,~16,~18,~20.4,~35,~38] \\; \\mathrm{GHz}$"
      ],
      "text/plain": [
       "<Quantity [ 5.3,  7.3, 13. , 16. , 18. , 20.4, 35. , 38. ] GHz>"
      ]
     },
     "execution_count": 21,
     "metadata": {},
     "output_type": "execute_result"
    }
   ],
   "source": [
    "bands_effelsberg_min"
   ]
  },
  {
   "cell_type": "code",
   "execution_count": 22,
   "id": "641be5e1",
   "metadata": {},
   "outputs": [
    {
     "data": {
      "text/latex": [
       "$[7.3,~9.3,~15,~18,~20,~22.4,~37,~40] \\; \\mathrm{GHz}$"
      ],
      "text/plain": [
       "<Quantity [ 7.3,  9.3, 15. , 18. , 20. , 22.4, 37. , 40. ] GHz>"
      ]
     },
     "execution_count": 22,
     "metadata": {},
     "output_type": "execute_result"
    }
   ],
   "source": [
    "bands_effelsberg_max"
   ]
  },
  {
   "cell_type": "code",
   "execution_count": null,
   "id": "a4975f6b",
   "metadata": {},
   "outputs": [],
   "source": []
  },
  {
   "cell_type": "code",
   "execution_count": 23,
   "id": "37c31aa7",
   "metadata": {},
   "outputs": [
    {
     "name": "stdout",
     "output_type": "stream",
     "text": [
      "H55alpha @ 38.47 GHz\n",
      "H56alpha @ 36.47 GHz\n",
      "H66alpha @ 22.36 GHz\n",
      "H67alpha @ 21.38 GHz\n",
      "H68alpha @ 20.46 GHz\n",
      "H69alpha @ 19.59 GHz\n",
      "H70alpha @ 18.77 GHz\n",
      "H71alpha @ 17.99 GHz\n",
      "H72alpha @ 17.26 GHz\n",
      "H73alpha @ 16.56 GHz\n",
      "H76alpha @ 14.69 GHz\n",
      "H77alpha @ 14.13 GHz\n",
      "H78alpha @ 13.60 GHz\n",
      "H79alpha @ 13.09 GHz\n",
      "H89alpha @ 9.17 GHz\n",
      "H90alpha @ 8.87 GHz\n",
      "H91alpha @ 8.58 GHz\n",
      "H92alpha @ 8.31 GHz\n",
      "H93alpha @ 8.05 GHz\n",
      "H94alpha @ 7.79 GHz\n",
      "H95alpha @ 7.55 GHz\n",
      "H96alpha @ 7.32 GHz\n",
      "H97alpha @ 7.10 GHz\n",
      "H98alpha @ 6.88 GHz\n",
      "H99alpha @ 6.68 GHz\n",
      "H100alpha @ 6.48 GHz\n",
      "H101alpha @ 6.29 GHz\n",
      "H102alpha @ 6.11 GHz\n",
      "H103alpha @ 5.93 GHz\n",
      "H104alpha @ 5.76 GHz\n",
      "H105alpha @ 5.60 GHz\n",
      "H106alpha @ 5.44 GHz\n"
     ]
    }
   ],
   "source": [
    "# disturbing Halpha lines:\n",
    "\n",
    "# cross matching the Halpha lines with the Effelsberg bands\n",
    "\n",
    "bad_Halphas = []\n",
    "\n",
    "for i in range(len(frequencies)):\n",
    "    for j in range(len(bands_effelsberg_max.value)):\n",
    "        if (frequencies_H[i].value >= bands_effelsberg_min.value[j]) & \\\n",
    "           (frequencies_H[i].value <= bands_effelsberg_max.value[j]):\n",
    "            #print(i,j)\n",
    "            print(\"H{0}alpha @ {1:2.2f} GHz\".format(n1[i],frequencies_H[i].value))\n",
    "            bad_Halphas.append(i)"
   ]
  },
  {
   "cell_type": "code",
   "execution_count": 24,
   "id": "8b21945a",
   "metadata": {},
   "outputs": [
    {
     "data": {
      "text/plain": [
       "32"
      ]
     },
     "execution_count": 24,
     "metadata": {},
     "output_type": "execute_result"
    }
   ],
   "source": [
    "len(bad_Halphas)"
   ]
  },
  {
   "cell_type": "code",
   "execution_count": null,
   "id": "4f2942a3",
   "metadata": {},
   "outputs": [],
   "source": []
  },
  {
   "cell_type": "code",
   "execution_count": 25,
   "id": "2c3320b6",
   "metadata": {},
   "outputs": [],
   "source": [
    "effelsberg_labels = np.unique(np.concatenate([bands_effelsberg_min.value,bands_effelsberg_max.value]))"
   ]
  },
  {
   "cell_type": "code",
   "execution_count": 26,
   "id": "65d019d9",
   "metadata": {},
   "outputs": [
    {
     "data": {
      "image/png": "[encoded data removed]",
      "text/plain": [
       "<Figure size 1296x432 with 1 Axes>"
      ]
     },
     "metadata": {
      "needs_background": "light"
     },
     "output_type": "display_data"
    }
   ],
   "source": [
    "plt.figure(figsize=(18,6))\n",
    "\n",
    "plt.plot(frequencies,np.repeat(1,n_max),'ko')\n",
    "\n",
    "for i in range(len(frequencies)):\n",
    "    if (frequencies[i].value >= bands_effelsberg_min.value[0]*0.9) & \\\n",
    "       (frequencies[i].value <= bands_effelsberg_max.value[-1]*1.1):\n",
    "        if i in good_Psalphas: \n",
    "            plt.text(frequencies[i].value,1.0025,r\"Ps{0}$\\alpha$\".format(n1[i]),\n",
    "                     rotation=90,horizontalalignment='center',color='green')\n",
    "        else:\n",
    "            plt.text(frequencies[i].value,1.0025,r\"Ps{0}$\\alpha$\".format(n1[i]),\n",
    "                     rotation=90,horizontalalignment='center',color='blue')\n",
    "            \n",
    "            \n",
    "plt.plot(frequencies_H,np.repeat(0.985,n_max),'ko')            \n",
    "\n",
    "for i in range(len(frequencies_H)):\n",
    "    if (frequencies_H[i].value >= bands_effelsberg_min.value[0]*0.9) & \\\n",
    "       (frequencies_H[i].value <= bands_effelsberg_max.value[-1]*1.1):\n",
    "        if i in bad_Halphas: \n",
    "            plt.text(frequencies_H[i].value,0.9875,r\"H{0}$\\alpha$\".format(n1[i]),\n",
    "                     rotation=90,horizontalalignment='center',color='red')\n",
    "        else:\n",
    "            plt.text(frequencies_H[i].value,0.9875,r\"H{0}$\\alpha$\".format(n1[i]),\n",
    "                     rotation=90,horizontalalignment='center',color='blue')\n",
    "\n",
    "\n",
    "for i in range(len(bands_effelsberg_max.value)):\n",
    "    plt.fill([bands_effelsberg_min.value[i],\n",
    "              bands_effelsberg_min.value[i],\n",
    "              bands_effelsberg_max.value[i],\n",
    "              bands_effelsberg_max.value[i],\n",
    "              bands_effelsberg_min.value[i]],\n",
    "             [0,2,2,0,0],color='lime',alpha=0.25)\n",
    "\n",
    "plt.xscale('log')\n",
    "\n",
    "plt.xticks(labels=effelsberg_labels,ticks=effelsberg_labels,rotation=90)\n",
    "\n",
    "plt.ylim(0.975,1.025)\n",
    "\n",
    "#plt.xlim(5,10)\n",
    "\n",
    "plt.yticks([])\n",
    "\n",
    "plt.xlim(bands_effelsberg_min.value[0]*0.9,bands_effelsberg_max.value[-1]*1.1)\n",
    "\n",
    "plt.xlabel('Frequency [GHz]',fontsize=20)\n",
    "\n",
    "plt.savefig('Psalpha_search_Effelsberg.pdf',bbox_inches='tight')"
   ]
  },
  {
   "cell_type": "code",
   "execution_count": null,
   "id": "d7684ccf",
   "metadata": {},
   "outputs": [],
   "source": []
  },
  {
   "cell_type": "code",
   "execution_count": null,
   "id": "deafa509",
   "metadata": {},
   "outputs": [],
   "source": []
  },
  {
   "cell_type": "code",
   "execution_count": null,
   "id": "4c38b86f",
   "metadata": {},
   "outputs": [],
   "source": []
  },
  {
   "cell_type": "code",
   "execution_count": 27,
   "id": "21124c6f",
   "metadata": {},
   "outputs": [],
   "source": [
    "# Getting estimates on line fluxes\n",
    "# Taken from Wallyn 1996: https://articles.adsabs.harvard.edu/pdf/1996ApJ...465..473W"
   ]
  },
  {
   "cell_type": "code",
   "execution_count": 28,
   "id": "2d0589af",
   "metadata": {},
   "outputs": [],
   "source": [
    "# values copied from Table 6\n",
    "n_IPs = np.array([1,2,3,4,5,6,7,8,9,10,11,12,13,14,15,16,17,18,32,87,89,129,133.])"
   ]
  },
  {
   "cell_type": "code",
   "execution_count": 29,
   "id": "bc21c30c",
   "metadata": {},
   "outputs": [],
   "source": [
    "# using temperatures of 1e3, 1e4, 1e5, 1e6 Kelvin for interpolation\n",
    "\n",
    "I_Ps_1e3 = np.array([2.27e-12,1.25e-12,6.69e-13,3.89e-13,2.37e-13,1.50e-13,\n",
    "                     9.89e-14,6.74e-14,4.76e-14,3.38e-14,2.57e-14,2.11e-14,\n",
    "                     1.7e-14,1.4e-14,1.3e-14,1.1e-14,9.5e-15,8.2e-15,2e-15,\n",
    "                     2e-16,2e-16,7e-17,7e-17]) / u.cm**3 / u.s"
   ]
  },
  {
   "cell_type": "code",
   "execution_count": 30,
   "id": "4688a37f",
   "metadata": {},
   "outputs": [],
   "source": [
    "I_Ps_1e4 = np.array([3.18e-13,1.33e-13,5.09e-14,2.37e-14,1.23e-14,6.84e-15,\n",
    "                     2.93e-15,2.51e-15,1.62e-15,1.03e-15,7.55e-16,5.47e-16,\n",
    "                     4.1e-16,3.1e-16,2.4e-16,1.9e-16,1.5e-16,1.2e-16,1e-17,\n",
    "                     3e-19,2e-19,5e-20,5e-20]) / u.cm**3 / u.s"
   ]
  },
  {
   "cell_type": "code",
   "execution_count": 31,
   "id": "c2e4f0d9",
   "metadata": {},
   "outputs": [],
   "source": [
    "I_Ps_1e5 = np.array([2.54e-14,9.30e-15,2.31e-15,8.07e-16,3.36e-16,1.57e-16,\n",
    "                     8.04e-17,4.40e-17,2.55e-17,1.56e-17,9.89e-18,6.51e-18,\n",
    "                     4.4e-18,3.1e-18,2.2e-18,1.6e-18,1.2e-18,9.0e-19,5e-20,\n",
    "                     3e-22,3e-22,4e-23,3e-23]) / u.cm**3 / u.s"
   ]
  },
  {
   "cell_type": "code",
   "execution_count": 32,
   "id": "1f8bee48",
   "metadata": {},
   "outputs": [],
   "source": [
    "I_Ps_1e6 = np.array([1.11e-15,4.95e-16,8.97e-17,2.52e-17,9.15e-18,3.96e-18,\n",
    "                     1.93e-18,1.03e-18,5.92e-19,3.60e-19,2.29e-19,1.51e-19,\n",
    "                     1.0e-19,7.2e-20,5.2e-20,3.8e-20,2.8e-20,2.1e-20,1e-21,\n",
    "                     8e-24,7e-24,1e-24,9e-25]) / u.cm**3 / u.s"
   ]
  },
  {
   "cell_type": "code",
   "execution_count": 33,
   "id": "15a67658",
   "metadata": {},
   "outputs": [],
   "source": [
    "T_arr = np.array([1e3,1e4,1e5,1e6]) * u.K"
   ]
  },
  {
   "cell_type": "code",
   "execution_count": 34,
   "id": "59b842dc",
   "metadata": {},
   "outputs": [
    {
     "data": {
      "text/plain": [
       "Text(0, 0.5, 'Intensity [$\\\\mathrm{cm^{-3}\\\\,s^{-1}}$]')"
      ]
     },
     "execution_count": 34,
     "metadata": {},
     "output_type": "execute_result"
    },
    {
     "data": {
      "image/png": "[encoded data removed]",
      "text/plain": [
       "<Figure size 432x288 with 1 Axes>"
      ]
     },
     "metadata": {
      "needs_background": "light"
     },
     "output_type": "display_data"
    }
   ],
   "source": [
    "plt.loglog(n_IPs,I_Ps_1e3,'o-',label='1e3 K')\n",
    "plt.loglog(n_IPs,I_Ps_1e4,'o-',label='1e4 K')\n",
    "plt.loglog(n_IPs,I_Ps_1e5,'o-',label='1e5 K')\n",
    "plt.loglog(n_IPs,I_Ps_1e6,'o-',label='1e6 K')\n",
    "plt.legend()\n",
    "plt.xlabel('Transition to n')\n",
    "plt.ylabel(r'Intensity [$\\mathrm{cm^{-3}\\,s^{-1}}$]')\n",
    "# see Figure 9 of Wallyn+1996"
   ]
  },
  {
   "cell_type": "code",
   "execution_count": null,
   "id": "de9ab9b5",
   "metadata": {},
   "outputs": [],
   "source": []
  },
  {
   "cell_type": "code",
   "execution_count": 35,
   "id": "aa2f66e8",
   "metadata": {},
   "outputs": [],
   "source": [
    "# Estimating the line strength:\n",
    "\n",
    "# Equation (5.1) in Wallyn+1996 or Equations (1-3) in Ellis+2009\n",
    "# https://iopscience.iop.org/article/10.1088/0004-637X/707/1/457/pdf:\n",
    "\n",
    "def Ps_alpha_radiative_recombination_line_flux(r,\n",
    "                                               f_Ps,\n",
    "                                               alpha,\n",
    "                                               beta,\n",
    "                                               distance,\n",
    "                                               A_lambda,\n",
    "                                               Delta_lambda,\n",
    "                                               nu_line):\n",
    "    \n",
    "    # r is the number of positrons produced in a source per second [1/s]\n",
    "    # f_Ps is the Positronium fraction that depends on the gas conditions [1]\n",
    "    # (temperature and ionisation state, see below); maximum is 1.0, minimum 0.0;\n",
    "    # alpha is the number of emitted Ps Lyalpha photons for each Ps atom (see below) [1]\n",
    "    # beta is the ratio of the intensity of Ps Lyalpha to the line in question [1]\n",
    "    # distance is the distance to the source [cm]\n",
    "    # A_lambda describes an absorption coefficient [1]\n",
    "    # Delta_Lambda is the line width in microns\n",
    "    # nu_line is the frequency of the line [GHz]\n",
    "    \n",
    "    # f_lambda is the Ps alpha recombination line photon flux\n",
    "    f_lambda = r * f_Ps * 3/4 * alpha/beta * 1/(4 * np.pi * distance**2) * 1/2.512**A_lambda * 1/Delta_lambda\n",
    "    f_lambda = f_lambda.to(1/u.m**2/u.s/u.micron)\n",
    "    \n",
    "    return f_lambda\n",
    "    \n",
    "    # to get the energy flux in Jansky, we go from wavelength to Hertz and multiply by the energy of the line\n",
    "    "
   ]
  },
  {
   "cell_type": "code",
   "execution_count": 36,
   "id": "860d2760",
   "metadata": {},
   "outputs": [],
   "source": [
    "def Ps_alpha_line_width(nu_line,temperature):\n",
    "    \n",
    "    lambda_line = (c.c/nu_line).to(u.micron)\n",
    "    \n",
    "    Delta_lambda = lambda_line * 7.8e-4 * (temperature / (1e4*u.K))**0.44\n",
    "    \n",
    "    return Delta_lambda"
   ]
  },
  {
   "cell_type": "code",
   "execution_count": 37,
   "id": "49a19556",
   "metadata": {},
   "outputs": [
    {
     "data": {
      "text/plain": [
       "(81, <Quantity 6.07763902 GHz>, <Quantity 49327.1247259 micron>)"
      ]
     },
     "execution_count": 37,
     "metadata": {},
     "output_type": "execute_result"
    }
   ],
   "source": [
    "n1[80],frequencies[80],wavelengths[80].to(u.micron)"
   ]
  },
  {
   "cell_type": "code",
   "execution_count": 38,
   "id": "439407ab",
   "metadata": {},
   "outputs": [
    {
     "data": {
      "text/latex": [
       "$34.87707 \\; \\mathrm{\\mu m}$"
      ],
      "text/plain": [
       "<Quantity 34.87707042 micron>"
      ]
     },
     "execution_count": 38,
     "metadata": {},
     "output_type": "execute_result"
    }
   ],
   "source": [
    "line_width_Ps80alpha = Ps_alpha_line_width(frequencies[80],8e3*u.K)\n",
    "line_width_Ps80alpha"
   ]
  },
  {
   "cell_type": "code",
   "execution_count": 39,
   "id": "545641c7",
   "metadata": {},
   "outputs": [],
   "source": [
    "line_flux_Ps80alpha = Ps_alpha_radiative_recombination_line_flux(r=1e43/u.s,\n",
    "                                           f_Ps=1.0,\n",
    "                                           alpha=0.4,\n",
    "                                           beta=2.192,\n",
    "                                           distance=1*u.kpc,\n",
    "                                           A_lambda=10, # no idea about extinction at 6 GHz???\n",
    "                                           Delta_lambda=line_width_Ps80alpha,\n",
    "                                           nu_line=frequencies[80])"
   ]
  },
  {
   "cell_type": "code",
   "execution_count": 40,
   "id": "8c51186b",
   "metadata": {},
   "outputs": [
    {
     "data": {
      "text/latex": [
       "$0.00032781846 \\; \\mathrm{\\frac{1}{\\mu m\\,s\\,m^{2}}}$"
      ],
      "text/plain": [
       "<Quantity 0.00032782 1 / (m2 micron s)>"
      ]
     },
     "execution_count": 40,
     "metadata": {},
     "output_type": "execute_result"
    }
   ],
   "source": [
    "line_flux_Ps80alpha"
   ]
  },
  {
   "cell_type": "code",
   "execution_count": null,
   "id": "9affbe3d",
   "metadata": {},
   "outputs": [],
   "source": []
  },
  {
   "cell_type": "code",
   "execution_count": 41,
   "id": "a89b849d",
   "metadata": {},
   "outputs": [
    {
     "data": {
      "text/plain": [
       "'\\ndN/(dlambda * dt * dA)\\n\\nnu = c / lambda\\n\\ndnu / dlambda = -c / lambda**2\\n\\ndlambda = dnu * lambda**2 / c\\n\\ndN/(lambda**2 * dnu * dt * dA) * c = \\ndN / (dnu * dt * dA) * (c / lambda**2)'"
      ]
     },
     "execution_count": 41,
     "metadata": {},
     "output_type": "execute_result"
    }
   ],
   "source": [
    "\"\"\"\n",
    "dN/(dlambda * dt * dA)\n",
    "\n",
    "nu = c / lambda\n",
    "\n",
    "dnu / dlambda = -c / lambda**2\n",
    "\n",
    "dlambda = dnu * lambda**2 / c\n",
    "\n",
    "dN/(lambda**2 * dnu * dt * dA) * c = \n",
    "dN / (dnu * dt * dA) * (c / lambda**2)\"\"\""
   ]
  },
  {
   "cell_type": "code",
   "execution_count": 42,
   "id": "8b86a231",
   "metadata": {},
   "outputs": [
    {
     "data": {
      "text/latex": [
       "$2.6606289 \\times 10^{-13} \\; \\mathrm{\\frac{1}{Hz\\,s\\,cm^{2}}}$"
      ],
      "text/plain": [
       "<Quantity 2.66062888e-13 1 / (cm2 Hz s)>"
      ]
     },
     "execution_count": 42,
     "metadata": {},
     "output_type": "execute_result"
    }
   ],
   "source": [
    "(line_flux_Ps80alpha * wavelengths[80]**2 / c.c).to(1/u.cm**2/u.s/u.Hz)"
   ]
  },
  {
   "cell_type": "code",
   "execution_count": 43,
   "id": "7a84df24",
   "metadata": {},
   "outputs": [
    {
     "data": {
      "text/latex": [
       "$1.0714582 \\times 10^{-6} \\; \\mathrm{Jy}$"
      ],
      "text/plain": [
       "<Quantity 1.0714582e-06 Jy>"
      ]
     },
     "execution_count": 43,
     "metadata": {},
     "output_type": "execute_result"
    }
   ],
   "source": [
    "(line_flux_Ps80alpha * wavelengths[80]**2 / c.c * energies[80]).to(u.Jy)"
   ]
  },
  {
   "cell_type": "code",
   "execution_count": null,
   "id": "b1abb804",
   "metadata": {},
   "outputs": [],
   "source": []
  },
  {
   "cell_type": "code",
   "execution_count": 44,
   "id": "8e609780",
   "metadata": {},
   "outputs": [
    {
     "data": {
      "text/plain": [
       "<matplotlib.legend.Legend at 0x127eeea50>"
      ]
     },
     "execution_count": 44,
     "metadata": {},
     "output_type": "execute_result"
    },
    {
     "data": {
      "image/png": "[encoded data removed]",
      "text/plain": [
       "<Figure size 432x288 with 1 Axes>"
      ]
     },
     "metadata": {
      "needs_background": "light"
     },
     "output_type": "display_data"
    }
   ],
   "source": [
    "# functions for alpha and beta\n",
    "alpha_arr = np.array([0.45,0.32,0.18,0.09])\n",
    "beta_arr = np.array([1.816,2.391,2.731,2.242])\n",
    "\n",
    "plt.plot(T_arr,alpha_arr,'o-',label='alpha')\n",
    "plt.plot(T_arr,beta_arr,'o-',label='beta')\n",
    "\n",
    "plt.xscale('log')\n",
    "\n",
    "plt.xlabel('Temperature [K]')\n",
    "\n",
    "plt.legend()"
   ]
  },
  {
   "cell_type": "code",
   "execution_count": 45,
   "id": "2d440817",
   "metadata": {},
   "outputs": [],
   "source": [
    "from scipy.interpolate import interp1d as interpol"
   ]
  },
  {
   "cell_type": "code",
   "execution_count": 46,
   "id": "c0c383a8",
   "metadata": {},
   "outputs": [],
   "source": [
    "alpha_func = interpol(T_arr.value,alpha_arr)\n",
    "beta_func = interpol(T_arr.value,beta_arr)"
   ]
  },
  {
   "cell_type": "code",
   "execution_count": 47,
   "id": "42ca6acd",
   "metadata": {},
   "outputs": [
    {
     "data": {
      "text/plain": [
       "array(0.34888889)"
      ]
     },
     "execution_count": 47,
     "metadata": {},
     "output_type": "execute_result"
    }
   ],
   "source": [
    "alpha_func(8e3)"
   ]
  },
  {
   "cell_type": "code",
   "execution_count": 48,
   "id": "283f4236",
   "metadata": {},
   "outputs": [],
   "source": [
    "Temp = np.geomspace(1e3,1e6,100)*u.K"
   ]
  },
  {
   "cell_type": "code",
   "execution_count": 49,
   "id": "9198df49",
   "metadata": {},
   "outputs": [
    {
     "data": {
      "text/plain": [
       "<matplotlib.legend.Legend at 0x12aed54d0>"
      ]
     },
     "execution_count": 49,
     "metadata": {},
     "output_type": "execute_result"
    },
    {
     "data": {
      "image/png": "[encoded data removed]",
      "text/plain": [
       "<Figure size 432x288 with 1 Axes>"
      ]
     },
     "metadata": {
      "needs_background": "light"
     },
     "output_type": "display_data"
    }
   ],
   "source": [
    "# functions for alpha and beta\n",
    "alpha_arr = np.array([0.45,0.32,0.18,0.09])\n",
    "beta_arr = np.array([1.816,2.391,2.731,2.242])\n",
    "\n",
    "plt.plot(T_arr,alpha_arr,'ko-',label='alpha')\n",
    "plt.plot(T_arr,beta_arr,'ro-',label='beta')\n",
    "plt.plot(T_arr,alpha_arr/beta_arr,'bo-',label='alpha/beta')\n",
    "\n",
    "plt.plot(Temp,alpha_func(Temp.value),'k.')\n",
    "plt.plot(Temp,beta_func(Temp.value),'r.')\n",
    "plt.plot(Temp,alpha_func(Temp.value)/beta_func(Temp.value),'b.')\n",
    "\n",
    "plt.xscale('log')\n",
    "\n",
    "plt.xlabel('Temperature [K]')\n",
    "\n",
    "plt.legend()"
   ]
  },
  {
   "cell_type": "code",
   "execution_count": 50,
   "id": "d370fe7f",
   "metadata": {},
   "outputs": [],
   "source": [
    "# need better interpolations here and maybe extrapolations using Wallyn paper\n",
    "# for now I use this"
   ]
  },
  {
   "cell_type": "code",
   "execution_count": 51,
   "id": "877c3d73",
   "metadata": {},
   "outputs": [],
   "source": [
    "# Estimating the line strength:\n",
    "\n",
    "# Equation (5.1) in Wallyn+1996 or Equations (1-3) in Ellis+2009\n",
    "# https://iopscience.iop.org/article/10.1088/0004-637X/707/1/457/pdf:\n",
    "\n",
    "# redefinition of the function\n",
    "def Ps_alpha_radiative_recombination_line_flux_new(r,\n",
    "                                               f_Ps,\n",
    "                                               temperature,\n",
    "                                               distance,\n",
    "                                               A_lambda,\n",
    "                                               Delta_lambda,\n",
    "                                               nu_line):\n",
    "    \n",
    "    # r is the number of positrons produced in a source per second [1/s]\n",
    "    # f_Ps is the Positronium fraction that depends on the gas conditions [1]\n",
    "    # (temperature and ionisation state, see below); maximum is 1.0, minimum 0.0;\n",
    "    # temperature of the medium [K]\n",
    "    # distance is the distance to the source [cm]\n",
    "    # A_lambda describes an absorption coefficient [1]\n",
    "    # Delta_Lambda is the line width in microns\n",
    "    # nu_line is the frequency of the line [GHz]\n",
    "    \n",
    "    # f_lambda is the Ps alpha recombination line photon flux\n",
    "    alpha = alpha_func(temperature.value)\n",
    "    beta = beta_func(temperature.value)\n",
    "    \n",
    "    f_lambda = r * f_Ps * 3/4 * alpha/beta * 1/(4 * np.pi * distance**2) * 1/2.512**A_lambda * 1/Delta_lambda\n",
    "    f_lambda = f_lambda.to(1/u.m**2/u.s/u.micron)\n",
    "    \n",
    "    lambda_line = c.c/nu_line\n",
    "    energy_line = c.h * nu_line\n",
    "    \n",
    "    f_erg = (f_lambda * lambda_line**2 / c.c * energy_line).to(u.Jy)\n",
    "    \n",
    "    return f_erg"
   ]
  },
  {
   "cell_type": "code",
   "execution_count": 52,
   "id": "e98270cf",
   "metadata": {},
   "outputs": [
    {
     "data": {
      "text/latex": [
       "$1.4142812 \\times 10^{-8} \\; \\mathrm{Jy}$"
      ],
      "text/plain": [
       "<Quantity 1.41428116e-08 Jy>"
      ]
     },
     "execution_count": 52,
     "metadata": {},
     "output_type": "execute_result"
    }
   ],
   "source": [
    "Ps_alpha_radiative_recombination_line_flux_new(r = 1e43 / u.s,\n",
    "                                               f_Ps = 1.0,\n",
    "                                               temperature = 8e3 * u.K,\n",
    "                                               distance = 8 * u.kpc,\n",
    "                                               A_lambda = 10.0, # no idea about extinction at 6 GHz???\n",
    "                                               Delta_lambda = Ps_alpha_line_width(frequencies[80],8e3 * u.K),\n",
    "                                               nu_line = frequencies[80])"
   ]
  },
  {
   "cell_type": "code",
   "execution_count": 53,
   "id": "3e38b160",
   "metadata": {},
   "outputs": [],
   "source": [
    "# this example would assume that all the positrons that are created in the Milky Way\n",
    "# per second are in one place at a distanc of 8 kpc\n",
    "# the Ps80alpha line would then be 141 microJansky strong at A_lamba = 0, but only 14 nanoJansky at A_lambda = 10\n",
    "#\n",
    "# no idea about absorption ... \n",
    "#\n",
    "# the temperature is what we get from gamma-ray observations"
   ]
  },
  {
   "cell_type": "code",
   "execution_count": null,
   "id": "e63a5b68",
   "metadata": {},
   "outputs": [],
   "source": []
  },
  {
   "cell_type": "code",
   "execution_count": 54,
   "id": "65b3f43a",
   "metadata": {},
   "outputs": [],
   "source": [
    "# need to calculate the expected Hnalpha spectra (Wallyn gives ratios)\n",
    "# Here is what the spectrum in the Effelsberg band from 5.3 to 7.3 GHz would look like:"
   ]
  },
  {
   "cell_type": "code",
   "execution_count": 55,
   "id": "96d7dd1d",
   "metadata": {},
   "outputs": [
    {
     "name": "stdout",
     "output_type": "stream",
     "text": [
      "76 7.068155285645959 GHz 0.005513161122803847 GHz 1.0796364723633548e-08 Jy\n",
      "77 6.801446782318217 GHz 0.005305128490208209 GHz 1.0796364723633548e-08 Jy\n",
      "78 6.5479900015487535 GHz 0.005107432201208028 GHz 1.079636472363355e-08 Jy\n",
      "79 6.306972017367924 GHz 0.004919438173546981 GHz 1.0796364723633548e-08 Jy\n",
      "80 6.077639020435017 GHz 0.004740558435939313 GHz 1.079636472363355e-08 Jy\n",
      "81 5.859291362648265 GHz 0.004570247262865647 GHz 1.079636472363355e-08 Jy\n",
      "82 5.651279070851861 GHz 0.004407997675264451 GHz 1.079636472363355e-08 Jy\n",
      "83 5.452997780268659 GHz 0.0042533382686095545 GHz 1.079636472363355e-08 Jy\n"
     ]
    }
   ],
   "source": [
    "n_min = 76\n",
    "n_max = 83\n",
    "frequencies[[n_max,n_min]]\n",
    "\n",
    "n_lines = n_max-n_min\n",
    "\n",
    "N_nu = 5001\n",
    "nu_arr = np.linspace(5.3,7.3,N_nu) * u.GHz\n",
    "\n",
    "temperature = 10e3 * u.K\n",
    "distance = 8 * u.kpc\n",
    "A_lambda = 10.0 #??????\n",
    "f_Ps = 0.97\n",
    "r = 1e43 / u.s\n",
    "\n",
    "spec = np.zeros(N_nu) * u.Jy / u.GHz\n",
    "\n",
    "def Gaussian(x,F,mu,sigma):\n",
    "    return F/(np.sqrt(2*np.pi)*sigma) * np.exp(-0.5*((x-mu)/sigma)**2)\n",
    "\n",
    "for i in range(n_min,n_max+1,1):\n",
    "    tmp_freq = frequencies[i]\n",
    "    tmp_wave = c.c / tmp_freq\n",
    "    sigma_wave = Ps_alpha_line_width(tmp_freq,temperature)\n",
    "    sigma_freq = (sigma_wave * c.c / tmp_wave**2).to(u.GHz)\n",
    "    tmp_flux = Ps_alpha_radiative_recombination_line_flux_new(r,\n",
    "                                                              f_Ps,\n",
    "                                                              temperature,\n",
    "                                                              distance,\n",
    "                                                              A_lambda,\n",
    "                                                              sigma_wave,\n",
    "                                                              tmp_freq)\n",
    "    \n",
    "    print(i,tmp_freq,sigma_freq,tmp_flux)\n",
    "    \n",
    "    spec += Gaussian(nu_arr,tmp_flux,tmp_freq,sigma_freq)\n",
    "    "
   ]
  },
  {
   "cell_type": "code",
   "execution_count": 56,
   "id": "54158622",
   "metadata": {},
   "outputs": [
    {
     "data": {
      "text/plain": [
       "[<matplotlib.lines.Line2D at 0x12ba17250>]"
      ]
     },
     "execution_count": 56,
     "metadata": {},
     "output_type": "execute_result"
    },
    {
     "data": {
      "image/png": "[encoded data removed]",
      "text/plain": [
       "<Figure size 432x288 with 1 Axes>"
      ]
     },
     "metadata": {
      "needs_background": "light"
     },
     "output_type": "display_data"
    }
   ],
   "source": [
    "plt.plot(nu_arr,spec*np.diff(nu_arr)[0])"
   ]
  },
  {
   "cell_type": "code",
   "execution_count": null,
   "id": "fdf0bcfc",
   "metadata": {},
   "outputs": [],
   "source": []
  },
  {
   "cell_type": "code",
   "execution_count": 57,
   "id": "d7ba5239",
   "metadata": {},
   "outputs": [
    {
     "data": {
      "text/latex": [
       "$0.0013058974 \\; \\mathrm{\\frac{1}{s\\,cm^{2}}}$"
      ],
      "text/plain": [
       "<Quantity 0.0013059 1 / (cm2 s)>"
      ]
     },
     "execution_count": 57,
     "metadata": {},
     "output_type": "execute_result"
    }
   ],
   "source": [
    "(r/(4*np.pi*distance**2)).to(1/u.cm**2/u.s)"
   ]
  },
  {
   "cell_type": "code",
   "execution_count": null,
   "id": "feb579e5",
   "metadata": {},
   "outputs": [],
   "source": []
  },
  {
   "cell_type": "code",
   "execution_count": null,
   "id": "0fe64ea3",
   "metadata": {},
   "outputs": [],
   "source": []
  }
 ],
 "metadata": {
  "kernelspec": {
   "display_name": "3ml_stuff",
   "language": "python",
   "name": "3ml_stuff"
  },
  "language_info": {
   "codemirror_mode": {
    "name": "ipython",
    "version": 3
   },
   "file_extension": ".py",
   "mimetype": "text/x-python",
   "name": "python",
   "nbconvert_exporter": "python",
   "pygments_lexer": "ipython3",
   "version": "3.7.13"
  }
 },
 "nbformat": 4,
 "nbformat_minor": 5
}
